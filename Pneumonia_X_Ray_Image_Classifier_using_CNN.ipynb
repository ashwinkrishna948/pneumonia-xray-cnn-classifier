{
  "nbformat": 4,
  "nbformat_minor": 0,
  "metadata": {
    "colab": {
      "provenance": [],
      "authorship_tag": "ABX9TyObmN+pSPinMWsf98VVzFoh",
      "include_colab_link": true
    },
    "kernelspec": {
      "name": "python3",
      "display_name": "Python 3"
    },
    "language_info": {
      "name": "python"
    }
  },
  "cells": [
    {
      "cell_type": "markdown",
      "metadata": {
        "id": "view-in-github",
        "colab_type": "text"
      },
      "source": [
        "<a href=\"https://colab.research.google.com/github/ashwinkrishna948/pneumonia-xray-cnn-classifier/blob/main/Pneumonia_X_Ray_Image_Classifier_using_CNN.ipynb\" target=\"_parent\"><img src=\"https://colab.research.google.com/assets/colab-badge.svg\" alt=\"Open In Colab\"/></a>"
      ]
    },
    {
      "cell_type": "code",
      "execution_count": null,
      "metadata": {
        "id": "v-SJM_LupR-u"
      },
      "outputs": [],
      "source": [
        "import numpy as np\n",
        "import pandas as pd\n",
        "import matplotlib.pyplot as plt\n",
        "import seaborn as sns\n",
        "\n",
        "from PIL import Image\n",
        "\n",
        "from keras.preprocessing.image import ImageDataGenerator\n",
        "from keras.applications.densenet import DenseNet121\n",
        "from keras.layers import Dense, GlobalAveragePooling2D\n",
        "from keras.models import Model\n",
        "from keras import backend as K\n",
        "from keras.models import load_model\n",
        "\n",
        "import tensorflow as tf\n",
        "\n",
        "import os"
      ]
    },
    {
      "cell_type": "code",
      "source": [
        "train_folder = \"C:/Users/ashwi/OneDrive/Desktop/chest_xray/train\"\n",
        "test_folder = \"C:/Users/ashwi/OneDrive/Desktop/chest_xray/test\"\n",
        "val_folder = \"C:/Users/ashwi/OneDrive/Desktop/chest_xray/val\""
      ],
      "metadata": {
        "id": "cMzjkI1YuISM"
      },
      "execution_count": null,
      "outputs": []
    },
    {
      "cell_type": "code",
      "source": [
        "# Directory of normal train data\n",
        "train_n = train_folder + \"/NORMAL/\"\n",
        "\n",
        "# Directory of penumonia train data\n",
        "train_p = train_folder + \"/PNEUMONIA/\"\n",
        "\n",
        "# Directory of normal test data\n",
        "test_n = test_folder + \"/NORMAL/\"\n",
        "\n",
        "# Directory of penumonia test data\n",
        "test_p = test_folder + \"/PNEUMONIA/\"\n",
        "\n",
        "# Directory of normal validation data\n",
        "val_n = val_folder + \"/NORMAL/\"\n",
        "\n",
        "# Directory of penumonia validation data\n",
        "val_p = val_folder + \"/PNEUMONIA/\""
      ],
      "metadata": {
        "id": "LQz6pob8y-qI"
      },
      "execution_count": null,
      "outputs": []
    },
    {
      "cell_type": "code",
      "source": [
        "count_total = {'Normal Train':count_train_n, 'Pneumonia Train':count_train_p,\n",
        "               'Normal Test':count_test_n, 'Pneumonia Test':count_test_p,\n",
        "               'Normal Validation':count_val_n, 'Pneumonia Validation':count_val_p}\n",
        "\n",
        "# Visulize the number of x-ray images for each data category using seaborn library\n",
        "sns.barplot(x=list(count_total.keys()), y=list(count_total.values()))\n",
        "plt.xlabel('Data Categories')\n",
        "plt.ylabel('Number of X-Ray Images')\n",
        "plt.title('Number of X-Ray Images by Each Data Category')\n",
        "plt.xticks(rotation=45)\n",
        "\n",
        "# Add values on the plot\n",
        "for i, v in enumerate(count_total.values()):\n",
        "    plt.text(i, v, str(v), ha='center', va='bottom')\n",
        "\n",
        "plt.show()"
      ],
      "metadata": {
        "id": "6k_Q5fgrzMY9"
      },
      "execution_count": null,
      "outputs": []
    },
    {
      "cell_type": "code",
      "source": [
        "# Select normal train pic\n",
        "rand_norm = np.random.randint(0, count_train_n)\n",
        "norm_pic = os.listdir(train_n)[rand_norm]\n",
        "norm_pic_dir = train_n + norm_pic\n",
        "print(f\"Train normal x-ray image title: {norm_pic}\")\n",
        "\n",
        "\n",
        "# Select pneumonia train pic\n",
        "rand_pneu = np.random.randint(0, count_train_p)\n",
        "pneu_pic = os.listdir(train_p)[rand_pneu]\n",
        "pneu_pic_dir = train_p + pneu_pic\n",
        "print(f\"Train pneumonia x-ray image title: {pneu_pic}\")\n",
        "\n",
        "# Load images\n",
        "norm_load = Image.open(norm_pic_dir)\n",
        "pneu_load = Image.open(pneu_pic_dir)\n",
        "\n",
        "# Plot images\n",
        "plt.figure(figsize=(8,5))\n",
        "plt1 = plt.subplot(1,2,1)\n",
        "plt1.imshow(norm_load)\n",
        "plt1.set_title('Normal')\n",
        "\n",
        "plt2 = plt.subplot(1,2,2)\n",
        "plt2.imshow(pneu_load)\n",
        "plt2.set_title('Pneumonia')"
      ],
      "metadata": {
        "id": "z4Mn3927uJm4"
      },
      "execution_count": null,
      "outputs": []
    },
    {
      "cell_type": "code",
      "source": [
        "# Create ImageDataGenerator\n",
        "image_generator = ImageDataGenerator(\n",
        "    rotation_range=10,           # Rotate images by a random degree between -10 and +10\n",
        "    width_shift_range=0.1,       # Shift the width of the image randomly by up to 10%\n",
        "    height_shift_range=0.1,      # Shift the height of the image randomly by up to 10%\n",
        "    shear_range=0.2,             # Apply random shearing transformations\n",
        "    zoom_range=0.2,              # Apply random zooming transformations\n",
        "    horizontal_flip=True,        # Flip images horizontally\n",
        "    vertical_flip=False,         # Do not flip images vertically (specific to X-ray images)\n",
        "    rescale=1./255               # Rescale pixel values to [0, 1] range\n",
        ")"
      ],
      "metadata": {
        "id": "uvTBhv9luNG6"
      },
      "execution_count": null,
      "outputs": []
    },
    {
      "cell_type": "code",
      "source": [
        "# Train data augmentation\n",
        "train_generator = image_generator.flow_from_directory(\n",
        "    directory=train_folder,\n",
        "    target_size=(224, 224),\n",
        "    batch_size=32,\n",
        "    class_mode='binary',  # Specify class_mode as 'binary' for two classes\n",
        "    classes=['NORMAL', 'PNEUMONIA']  # Specify the class labels based on the folder names\n",
        ")"
      ],
      "metadata": {
        "id": "X352p7PIugqH"
      },
      "execution_count": null,
      "outputs": []
    },
    {
      "cell_type": "code",
      "source": [
        "x, y = train_generator.__getitem__(0)\n",
        "plt.imshow(x[0]);"
      ],
      "metadata": {
        "id": "ART4A6ARuhsz"
      },
      "execution_count": null,
      "outputs": []
    },
    {
      "cell_type": "code",
      "source": [
        "# Validation data augmentation\n",
        "valid_generator = image_generator.flow_from_directory(\n",
        "    directory=val_folder,\n",
        "    target_size=(224, 224),\n",
        "    batch_size=32,\n",
        "    class_mode='binary',  # Specify class_mode as 'binary' for two classes\n",
        "    classes=['NORMAL', 'PNEUMONIA']  # Specify the class labels based on the folder names\n",
        ")"
      ],
      "metadata": {
        "id": "cxoDUmJzukjz"
      },
      "execution_count": null,
      "outputs": []
    },
    {
      "cell_type": "code",
      "source": [
        "# Test data augmentation\n",
        "test_generator = image_generator.flow_from_directory(\n",
        "    directory=test_folder,\n",
        "    target_size=(224, 224),\n",
        "    batch_size=32,\n",
        "    class_mode='binary',  # Specify class_mode as 'binary' for two classes\n",
        "    classes=['NORMAL', 'PNEUMONIA']  # Specify the class labels based on the folder names\n",
        ")"
      ],
      "metadata": {
        "id": "_shFYW_Ium_j"
      },
      "execution_count": null,
      "outputs": []
    },
    {
      "cell_type": "code",
      "source": [
        "# Plot frequency of normal and pneumonia\n",
        "plt.xticks(rotation=90)\n",
        "plt.bar(x=train_generator.class_indices.keys(), height=np.mean(train_generator.labels, axis=0))\n",
        "plt.title(\"Frequency of Each Class\")\n",
        "plt.show()"
      ],
      "metadata": {
        "id": "uzQ1kQlBurqh"
      },
      "execution_count": null,
      "outputs": []
    },
    {
      "cell_type": "code",
      "source": [
        "# create the base pre-trained model\n",
        "base_model = DenseNet121(weights='models/nih/densenet.hdf5', include_top=False)\n",
        "\n",
        "x = base_model.output\n",
        "\n",
        "# add a global spatial average pooling layer\n",
        "x = GlobalAveragePooling2D()(x)\n",
        "\n",
        "# and a logistic layer\n",
        "predictions = Dense(units=1, activation=\"sigmoid\")(x)\n",
        "\n",
        "model = Model(inputs=base_model.input, outputs=predictions)\n",
        "model.compile(optimizer='adam', loss='binary_crossentropy')"
      ],
      "metadata": {
        "id": "ZLbueWnCu9Gt"
      },
      "execution_count": null,
      "outputs": []
    },
    {
      "cell_type": "code",
      "source": [
        "# Train the model\n",
        "history = model.fit(train_generator,\n",
        "                              validation_data=valid_generator,\n",
        "                              steps_per_epoch=len(train_generator),\n",
        "                              validation_steps=len(valid_generator),\n",
        "                              epochs = 3)\n",
        "\n",
        "# plot training loss\n",
        "plt.plot(history.history['loss'])\n",
        "plt.ylabel(\"loss\")\n",
        "plt.xlabel(\"epoch\")\n",
        "plt.title(\"Training Loss Curve\")\n",
        "plt.show()"
      ],
      "metadata": {
        "id": "tljsNgT6vCSI"
      },
      "execution_count": null,
      "outputs": []
    },
    {
      "cell_type": "code",
      "source": [
        "# Model parameters\n",
        "model_parameters = model.get_weights()\n",
        "np.save('model_parameters.npy', model_parameters)"
      ],
      "metadata": {
        "id": "ynstf7ZKvF2I"
      },
      "execution_count": null,
      "outputs": []
    },
    {
      "cell_type": "code",
      "source": [
        "predicted_vals = model.predict(test_generator, steps = len(test_generator))"
      ],
      "metadata": {
        "id": "Zht1yYbfvGx2"
      },
      "execution_count": null,
      "outputs": []
    },
    {
      "cell_type": "code",
      "source": [
        "# Convert the predicted probabilities to binary values (0 or 1)\n",
        "predicted_classes = (predicted_vals > 0.5).astype(int)\n",
        "\n",
        "# Convert the ground truth labels to binary values (0 or 1)\n",
        "true_classes = test_generator.classes.astype(int)\n",
        "\n",
        "# Calculate accuracy\n",
        "accuracy = (predicted_classes == true_classes).mean()\n",
        "print(f\"Accuracy of the model is: {accuracy * 100} %\" )"
      ],
      "metadata": {
        "id": "2ZpwfyJmvJXF"
      },
      "execution_count": null,
      "outputs": []
    },
    {
      "cell_type": "code",
      "source": [
        "# Calculate True Positives (TP), True Negatives (TN), False Positives (FP), and False Negatives (FN)\n",
        "TP = ((predicted_classes == 1) & (true_classes == 1)).sum()\n",
        "TN = ((predicted_classes == 0) & (true_classes == 0)).sum()\n",
        "FP = ((predicted_classes == 1) & (true_classes == 0)).sum()\n",
        "FN = ((predicted_classes == 0) & (true_classes == 1)).sum()\n",
        "\n",
        "# Calculate specificity and sensitivity\n",
        "specificity = TN / (TN + FP)\n",
        "sensitivity = TP / (TP + FN)"
      ],
      "metadata": {
        "id": "f0o9eUV2vMdV"
      },
      "execution_count": null,
      "outputs": []
    },
    {
      "cell_type": "code",
      "source": [
        "print(f\"Specificity of the model is: {specificity}\")\n",
        "print(f\"sensitivity of the model is: {sensitivity}\")"
      ],
      "metadata": {
        "id": "DSMbozakvPcT"
      },
      "execution_count": null,
      "outputs": []
    },
    {
      "cell_type": "code",
      "source": [
        "# Calculate Positive Predictive Value (PPV) and Negative Predictive Value (NPV)\n",
        "PPV = TP / (TP + FP)\n",
        "print(f\"PPV of the model is: {PPV}\")\n",
        "\n",
        "NPV = TN / (TN + FN)\n",
        "print(f\"NPV of the model is: {NPV}\")"
      ],
      "metadata": {
        "id": "Kdlu4RN_vRwq"
      },
      "execution_count": null,
      "outputs": []
    },
    {
      "cell_type": "code",
      "source": [
        "from sklearn.metrics import roc_curve, auc\n",
        "\n",
        "# Compute False Positive Rate (FPR), True Positive Rate (TPR), and the corresponding threshold values\n",
        "fpr, tpr, thresholds = roc_curve(true_classes, predicted_vals)\n",
        "\n",
        "# Compute Area Under the Curve (AUC)\n",
        "auc_score = auc(fpr, tpr)"
      ],
      "metadata": {
        "id": "B3Bmy7JGvc8N"
      },
      "execution_count": null,
      "outputs": []
    },
    {
      "cell_type": "code",
      "source": [
        "# Plot ROC curve\n",
        "plt.plot(fpr, tpr, label='ROC Curve (AUC = {:.2f})'.format(auc_score))\n",
        "plt.plot([0, 1], [0, 1], 'k--')  # Diagonal line representing random classifier\n",
        "plt.xlabel('False Positive Rate')\n",
        "plt.ylabel('True Positive Rate')\n",
        "plt.title('Receiver Operating Characteristic (ROC) Curve')\n",
        "plt.legend(loc='lower right')\n",
        "plt.show()"
      ],
      "metadata": {
        "id": "KbEv6MVjvfn2"
      },
      "execution_count": null,
      "outputs": []
    },
    {
      "cell_type": "code",
      "source": [
        "from sklearn.metrics import f1_score\n",
        "f1 = f1_score(true_classes, predicted_classes)\n",
        "print(f\"F1 score of the model is: {f1}\")"
      ],
      "metadata": {
        "id": "bv63Hn4SvkjV"
      },
      "execution_count": null,
      "outputs": []
    }
  ]
}